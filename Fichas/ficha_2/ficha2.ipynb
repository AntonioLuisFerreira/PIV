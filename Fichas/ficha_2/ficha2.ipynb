{
 "cells": [
  {
   "cell_type": "code",
   "execution_count": 66,
   "metadata": {},
   "outputs": [],
   "source": [
    "import numpy as np\n",
    "import matplotlib.pyplot as plt\n",
    "import cv2 "
   ]
  },
  {
   "cell_type": "code",
   "execution_count": 67,
   "metadata": {},
   "outputs": [
    {
     "name": "stdout",
     "output_type": "stream",
     "text": [
      "Fracos : 0.08\n",
      "Fortes : 0.52\n",
      "Resposta é 1.2\n"
     ]
    }
   ],
   "source": [
    "#Pergunta 1\n",
    "img = np.array([[110,  35, 218, 19, 106],\n",
    "                [232, 222, 159, 61,  13],\n",
    "                [46,  148,  89, 31, 230],\n",
    "                [67,  140, 131, 47, 241],\n",
    "                [37,   37, 102, 61, 125]])*1.\n",
    "\n",
    "\n",
    "print('Fracos :', (np.sum(img<94) - np.sum(img<62))/25)\n",
    "print('Fortes :', np.sum(img>=94)/25)\n",
    "print('Resposta é 1.2')"
   ]
  },
  {
   "cell_type": "code",
   "execution_count": 68,
   "metadata": {},
   "outputs": [
    {
     "name": "stdout",
     "output_type": "stream",
     "text": [
      "Resposta é 2.1\n"
     ]
    }
   ],
   "source": [
    "#Pergunta 2, apliquei a fórmula da última ficha\n",
    "print('Resposta é 2.1')"
   ]
  },
  {
   "cell_type": "code",
   "execution_count": 69,
   "metadata": {},
   "outputs": [],
   "source": [
    "#Pergunta 3\n",
    "planoR = np.array([[58,58],[44,111]])\n",
    "planoG = np.array([[79,110],[235,47]])\n",
    "planoB = np.array([[231,112],[250,28]])"
   ]
  },
  {
   "cell_type": "code",
   "execution_count": 70,
   "metadata": {},
   "outputs": [],
   "source": [
    "c1 = np.array([0.15,0.35])\n",
    "c2 = np.array([0.60,0.25])"
   ]
  },
  {
   "cell_type": "code",
   "execution_count": 71,
   "metadata": {},
   "outputs": [
    {
     "name": "stdout",
     "output_type": "stream",
     "text": [
      "200\n"
     ]
    },
    {
     "data": {
      "text/plain": [
       "0.005"
      ]
     },
     "execution_count": 71,
     "metadata": {},
     "output_type": "execute_result"
    }
   ],
   "source": [
    "a = np.array([[200,50],[70,90]])\n",
    "print(a.max())\n",
    "a = (1.0/a.max()) \n",
    "a"
   ]
  },
  {
   "cell_type": "code",
   "execution_count": 72,
   "metadata": {},
   "outputs": [
    {
     "name": "stdout",
     "output_type": "stream",
     "text": [
      "Resposta é 4.2\n"
     ]
    }
   ],
   "source": [
    "#Pergunta 4, tem o maior valor da tabela\n",
    "print('Resposta é 4.2')"
   ]
  },
  {
   "cell_type": "code",
   "execution_count": 73,
   "metadata": {},
   "outputs": [
    {
     "name": "stdout",
     "output_type": "stream",
     "text": [
      "Densidade de contornos: 0.76\n",
      "Resposta é 5.2\n"
     ]
    }
   ],
   "source": [
    "#Pergunta 5\n",
    "matriz = np.array([[193, 180, 210, 112, 125],\n",
    "                 [189, 8, 177, 97, 114],\n",
    "                 [100, 71, 81, 195, 165],\n",
    "                 [167, 12, 242, 203, 181],\n",
    "                 [44,25,9,48,192]])\n",
    "\n",
    "print(\"Densidade de contornos:\", np.sum(matriz>=70)/25)\n",
    "print('Resposta é 5.2')"
   ]
  },
  {
   "cell_type": "code",
   "execution_count": 74,
   "metadata": {},
   "outputs": [
    {
     "name": "stdout",
     "output_type": "stream",
     "text": [
      "Probabildade de erro é  0.375\n",
      "Resposta é 6.4\n"
     ]
    }
   ],
   "source": [
    "#Pergunta 6, são 8 previsões e errou 3 segundo a tabela\n",
    "print('Probabildade de erro é ', 3/8)\n",
    "print('Resposta é 6.4')"
   ]
  },
  {
   "cell_type": "code",
   "execution_count": 75,
   "metadata": {},
   "outputs": [
    {
     "name": "stdout",
     "output_type": "stream",
     "text": [
      "Resposta é 7.3\n"
     ]
    }
   ],
   "source": [
    "# Pergunta 7 (??)\n",
    "print('Resposta é 7.3')"
   ]
  },
  {
   "cell_type": "code",
   "execution_count": 76,
   "metadata": {},
   "outputs": [
    {
     "name": "stdout",
     "output_type": "stream",
     "text": [
      "Resposta é 8.1\n"
     ]
    }
   ],
   "source": [
    "# Pergunta 8, ver slides tem um exemplo igual a explicar o pan right e left\n",
    "print('Resposta é 8.1')"
   ]
  },
  {
   "cell_type": "code",
   "execution_count": 77,
   "metadata": {},
   "outputs": [
    {
     "name": "stdout",
     "output_type": "stream",
     "text": [
      "[[[100. 105. 101.]\n",
      "  [120. 125. 135.]\n",
      "  [140. 130. 195.]]] \n",
      "\n",
      "Resposta é 9.4\n"
     ]
    }
   ],
   "source": [
    "#Pergunta 9\n",
    "t = np.array([[100, 102, 101],\n",
    "                  [120, 120, 130],\n",
    "                  [135, 130, 132]])\n",
    "\n",
    "t1 = np.array([[ 90, 190,  95],\n",
    "                  [115, 125, 203],\n",
    "                  [140, 210, 195]])  \n",
    "\n",
    "t2 = np.array([[101, 105, 115],\n",
    "                  [150, 130, 135],\n",
    "                  [145, 125, 210]])   \n",
    "\n",
    "\n",
    "ts = np.array([[t], [t1], [t2]])\n",
    "\n",
    "bg = np.median(ts, axis=0)\n",
    "print(bg,'\\n')\n",
    "print('Resposta é 9.4')"
   ]
  }
 ],
 "metadata": {
  "kernelspec": {
   "display_name": "Python 3",
   "language": "python",
   "name": "python3"
  },
  "language_info": {
   "codemirror_mode": {
    "name": "ipython",
    "version": 3
   },
   "file_extension": ".py",
   "mimetype": "text/x-python",
   "name": "python",
   "nbconvert_exporter": "python",
   "pygments_lexer": "ipython3",
   "version": "3.11.0 (main, Oct 24 2022, 18:26:48) [MSC v.1933 64 bit (AMD64)]"
  },
  "orig_nbformat": 4,
  "vscode": {
   "interpreter": {
    "hash": "6cbd5c5811feec8bafa7353dbd723639cd42da10d6c45de46c15c5d30c24cec7"
   }
  }
 },
 "nbformat": 4,
 "nbformat_minor": 2
}
