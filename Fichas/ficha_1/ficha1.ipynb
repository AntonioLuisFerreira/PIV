{
 "cells": [
  {
   "cell_type": "code",
   "execution_count": 2,
   "metadata": {},
   "outputs": [],
   "source": [
    "import numpy as np\n",
    "import matplotlib.pyplot as plt\n",
    "from sklearn.metrics import confusion_matrix\n",
    "import cv2"
   ]
  },
  {
   "cell_type": "code",
   "execution_count": 3,
   "metadata": {},
   "outputs": [
    {
     "name": "stdout",
     "output_type": "stream",
     "text": [
      "0.3\n"
     ]
    }
   ],
   "source": [
    "#Pergunta 1\n",
    "rows = 640\n",
    "cols = 480\n",
    "print(round((rows*cols)/1000000,1))\n",
    "#Resposta 1.3"
   ]
  },
  {
   "cell_type": "code",
   "execution_count": 4,
   "metadata": {},
   "outputs": [
    {
     "data": {
      "text/plain": [
       "<matplotlib.patches.StepPatch at 0x7f8ea70d3460>"
      ]
     },
     "execution_count": 4,
     "metadata": {},
     "output_type": "execute_result"
    },
    {
     "data": {
      "image/png": "[encoded data removed]",
      "text/plain": [
       "<Figure size 640x480 with 1 Axes>"
      ]
     },
     "metadata": {},
     "output_type": "display_data"
    }
   ],
   "source": [
    "# Pergunta 2 \n",
    "x = np.matrix('4 2 5 1 2 1 0 2; 0 0 3 1 2 1 5 0; 4 3 1 2 2 1 2 1; 1 2 4 2 0 1 2 0; 2 1 2 0 1 1 5 1; 0 3 2 2 0 2 2 0; 5 3 1 1 2 1 2 7; 3 2 2 3 3 2 0 3')\n",
    "counts, bins = np.histogram(x)\n",
    "plt.stairs(counts, bins)\n",
    "# Resposta => 2.4"
   ]
  },
  {
   "cell_type": "code",
   "execution_count": 5,
   "metadata": {},
   "outputs": [
    {
     "name": "stdout",
     "output_type": "stream",
     "text": [
      "[[3 0 0]\n",
      " [0 1 1]\n",
      " [0 0 3]]\n"
     ]
    }
   ],
   "source": [
    "#Pergunta 3\n",
    "w = np.array([1,3,1,3,2,3,1,2])\n",
    "we = np.array([1,3,1,3,3,3,1,2])\n",
    "print(confusion_matrix(w,we))\n",
    "#Resposta => 3.3"
   ]
  },
  {
   "cell_type": "code",
   "execution_count": 6,
   "metadata": {},
   "outputs": [
    {
     "name": "stdout",
     "output_type": "stream",
     "text": [
      "20.489997559785117\n"
     ]
    }
   ],
   "source": [
    "#Pergunta 4\n",
    "print(np.sqrt(12.8**2 + 16**2))\n",
    "#Resposta => 4.1"
   ]
  },
  {
   "cell_type": "code",
   "execution_count": 7,
   "metadata": {},
   "outputs": [
    {
     "name": "stdout",
     "output_type": "stream",
     "text": [
      "11.0\n"
     ]
    }
   ],
   "source": [
    "#Pergunta 5\n",
    "#2**xpto = nºcores distintas\n",
    "#xpto = log2(nºcores distintas)\n",
    "print(np.log2(2048))\n",
    "#Resposta => 5.4"
   ]
  },
  {
   "cell_type": "code",
   "execution_count": 8,
   "metadata": {},
   "outputs": [],
   "source": [
    "#Pergunta 6\n",
    "#Resposta => 6.4"
   ]
  },
  {
   "cell_type": "code",
   "execution_count": 9,
   "metadata": {},
   "outputs": [
    {
     "name": "stdout",
     "output_type": "stream",
     "text": [
      "[[ 71  93 100  65]\n",
      " [111 147 151  97]\n",
      " [103 152 143 108]\n",
      " [ 71  99  95  70]]\n"
     ]
    }
   ],
   "source": [
    "#Pergunta 7\n",
    "img = np.array([[126, 227,  8,  231],\n",
    "                [199, 85,  190, 156],\n",
    "                [182, 178, 128, 158],\n",
    "                [230, 50,  122, 219]])\n",
    "\n",
    "img_b = cv2.blur(img, (3,3), anchor=(-1,-1), borderType=cv2.BORDER_CONSTANT)\n",
    "print(img_b)\n",
    "#Resposta 7.3"
   ]
  },
  {
   "cell_type": "code",
   "execution_count": 10,
   "metadata": {},
   "outputs": [
    {
     "name": "stdout",
     "output_type": "stream",
     "text": [
      "[[0 0 0 0 0 0 0 0]\n",
      " [0 0 0 1 1 0 0 0]\n",
      " [0 0 0 1 1 0 0 0]\n",
      " [0 0 1 1 1 1 0 0]\n",
      " [0 1 1 1 1 0 0 0]\n",
      " [0 0 0 1 0 0 0 0]\n",
      " [0 0 0 0 0 0 0 0]\n",
      " [0 0 0 0 0 0 0 0]]\n"
     ]
    }
   ],
   "source": [
    "img_bin = np.array([[0,0,0,0,0,0,0,0],\n",
    "                    [0,0,1,1,1,1,0,0],\n",
    "                    [0,0,0,1,1,1,0,0],\n",
    "                    [0,0,1,1,1,1,1,0],\n",
    "                    [0,1,1,1,1,1,0,0],\n",
    "                    [0,1,1,1,1,1,0,0],\n",
    "                    [0,0,0,1,0,0,0,0],\n",
    "                    [0,0,0,0,0,0,0,0]], dtype=np.uint8)\n",
    "\n",
    "\n",
    "kernel = np.array([[0,0,0],[0,1,1],[0,1,0]],np.uint8)\n",
    "img_bin_eroded = cv2.erode(img_bin, kernel)\n",
    "print(img_bin_eroded)\n",
    "#Resposta 8.4"
   ]
  },
  {
   "cell_type": "code",
   "execution_count": 11,
   "metadata": {},
   "outputs": [
    {
     "name": "stdout",
     "output_type": "stream",
     "text": [
      "[[1 0 0 0 2]\n",
      " [1 0 1 0 0]\n",
      " [0 1 1 1 1]\n",
      " [1 1 0 1 1]\n",
      " [1 1 1 1 1]]\n"
     ]
    }
   ],
   "source": [
    "#Pergunta 9\n",
    "k = np.matrix('1 0 0 0 1; 1 0 1 0 0; 0 1 1 1 1; 1 1 0 1 1; 1 1 1 1 1',np.uint8)\n",
    "num_labels, labels = cv2.connectedComponents(k, connectivity=8, ltype=cv2.CV_32S)\n",
    "print(labels)\n",
    "#resposta => 9.4"
   ]
  },
  {
   "cell_type": "code",
   "execution_count": 12,
   "metadata": {},
   "outputs": [],
   "source": [
    "#Pergunta 10\n",
    "#Resposta => 10.2"
   ]
  }
 ],
 "metadata": {
  "kernelspec": {
   "display_name": "Python 3",
   "language": "python",
   "name": "python3"
  },
  "language_info": {
   "codemirror_mode": {
    "name": "ipython",
    "version": 3
   },
   "file_extension": ".py",
   "mimetype": "text/x-python",
   "name": "python",
   "nbconvert_exporter": "python",
   "pygments_lexer": "ipython3",
   "version": "3.10.12"
  },
  "orig_nbformat": 4,
  "vscode": {
   "interpreter": {
    "hash": "6cbd5c5811feec8bafa7353dbd723639cd42da10d6c45de46c15c5d30c24cec7"
   }
  }
 },
 "nbformat": 4,
 "nbformat_minor": 2
}
