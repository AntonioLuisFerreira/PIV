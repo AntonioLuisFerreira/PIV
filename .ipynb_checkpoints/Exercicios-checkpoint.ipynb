{
 "cells": [
  {
   "cell_type": "code",
   "execution_count": 2,
   "id": "43001e8f-c7ac-456e-91fe-312acd7aff50",
   "metadata": {},
   "outputs": [],
   "source": [
    "import cv2\n",
    "\n",
    "fileName = 'lily-lotus-flowers.jpg'\n",
    "\n",
    "img = cv2.imread(fileName)\n",
    "\n",
    "cv2.imshow('Color Image'    , img)\n",
    "cv2.imshow('Blue Component' , img[:,:,0])\n",
    "cv2.imshow('Green Component', img[:,:,1])\n",
    "cv2.imshow('Red Component'  , img[:,:,2])\n",
    "print(img.shape)\n",
    "\n",
    "cv2.waitKey(0)\n",
    "cv2.destroyAllWindows()"
   ]
  },
  {
   "cell_type": "code",
   "execution_count": null,
   "id": "d5d26d67-085b-48c4-892f-f1c9726fc99e",
   "metadata": {},
   "outputs": [],
   "source": []
  }
 ],
 "metadata": {
  "kernelspec": {
   "display_name": "Python 3 (ipykernel)",
   "language": "python",
   "name": "python3"
  },
  "language_info": {
   "codemirror_mode": {
    "name": "ipython",
    "version": 3
   },
   "file_extension": ".py",
   "mimetype": "text/x-python",
   "name": "python",
   "nbconvert_exporter": "python",
   "pygments_lexer": "ipython3",
   "version": "3.9.12"
  }
 },
 "nbformat": 4,
 "nbformat_minor": 5
}
